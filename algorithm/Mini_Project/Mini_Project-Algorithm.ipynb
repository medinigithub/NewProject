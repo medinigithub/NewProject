{
 "cells": [
  {
   "cell_type": "markdown",
   "id": "86af31c4",
   "metadata": {},
   "source": [
    "Quick Sort"
   ]
  },
  {
   "cell_type": "code",
   "execution_count": 5,
   "id": "7dfdd1f3",
   "metadata": {},
   "outputs": [
    {
     "name": "stdout",
     "output_type": "stream",
     "text": [
      "Sorted array is: [21, 22, 23, 24, 25]\n"
     ]
    }
   ],
   "source": [
    "def quicksort(arr,left,right):\n",
    "    if left<right:\n",
    "        partition_pos=partition(arr,left,right)\n",
    "        quicksort(arr,left,partition_pos-1)\n",
    "        quicksort(arr,partition_pos+1,right)\n",
    "        \n",
    "def partition(arr,left,right):\n",
    "    i=left\n",
    "    j=right-1\n",
    "    pivot=arr[right]\n",
    "    \n",
    "    while i<j:\n",
    "        while i<right and arr[i]<pivot:\n",
    "            i+=1\n",
    "        while j>left and arr[j]>=pivot:\n",
    "            j-=1\n",
    "            \n",
    "        if i<j:\n",
    "            arr[i],arr[j]=arr[j],arr[i]\n",
    "            \n",
    "    if arr[i]>pivot:\n",
    "        arr[i],arr[right]=arr[right],arr[i]\n",
    "        \n",
    "    return i\n",
    "\n",
    "arr=[25,21,24,22,23]\n",
    "quicksort(arr,0,len(arr)-1)\n",
    "print(\"Sorted array is:\",arr)"
   ]
  },
  {
   "cell_type": "markdown",
   "id": "e22b6600",
   "metadata": {},
   "source": [
    "Maximum Subarray Problem"
   ]
  },
  {
   "cell_type": "code",
   "execution_count": 4,
   "id": "b3751d97",
   "metadata": {},
   "outputs": [
    {
     "name": "stdout",
     "output_type": "stream",
     "text": [
      "How many elements are in the list:8\n",
      "-4\n",
      "6\n",
      "3\n",
      "9\n",
      "-3\n",
      "1\n",
      "5\n",
      "5\n",
      "Maximum Subarray is: 26\n",
      "Start index of max_sum: 1\n",
      "End index of max_sum: 7\n"
     ]
    }
   ],
   "source": [
    "def MaximumSubArray(MyList):\n",
    "    max_sum=0\n",
    "    current_sum=0\n",
    "    \n",
    "    max_start=0\n",
    "    max_end=0\n",
    "    current_start=0\n",
    "    current_end=0\n",
    "    \n",
    "    for i in range(len(MyList)):\n",
    "        current_sum=current_sum+MyList[i]\n",
    "        current_end=i\n",
    "        if current_sum <0:\n",
    "            current_sum=0\n",
    "            current_start=current_end+1\n",
    "        \n",
    "        if max_sum<current_sum:\n",
    "            max_sum=current_sum\n",
    "            max_start=current_start\n",
    "            max_end=current_end9\n",
    "            \n",
    "            \n",
    "    print(\"Maximum Subarray is:\",max_sum)\n",
    "    print(\"Start index of max_sum:\",max_start)\n",
    "    print(\"End index of max_sum:\",max_end)\n",
    "    \n",
    "MyList=[int(input()) for i in range(int(input(\"How many elements are in the list:\")))]\n",
    "MaximumSubArray(MyList)"
   ]
  },
  {
   "cell_type": "code",
   "execution_count": null,
   "id": "ae6b7bfd",
   "metadata": {},
   "outputs": [],
   "source": []
  }
 ],
 "metadata": {
  "kernelspec": {
   "display_name": "Python 3",
   "language": "python",
   "name": "python3"
  }
 },
 "nbformat": 4,
 "nbformat_minor": 5
}
